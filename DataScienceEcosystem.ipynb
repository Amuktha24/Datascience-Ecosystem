{
 "cells": [
  {
   "cell_type": "markdown",
   "id": "d0c464ba",
   "metadata": {},
   "source": [
    "# Data Science Tools and Ecosystem"
   ]
  },
  {
   "cell_type": "markdown",
   "id": "6c4ee975",
   "metadata": {},
   "source": [
    "In this notebook, Data Science Tools and Ecosystems are summarized.\n"
   ]
  },
  {
   "cell_type": "markdown",
   "id": "ce43ad55",
   "metadata": {
    "scrolled": true
   },
   "source": [
    "OBJECTIVES:\n",
    "- Python\n",
    "- Java\n",
    "- Ruby\n",
    "- Scala\n",
    "- Javascript\n",
    "- C++"
   ]
  },
  {
   "cell_type": "markdown",
   "id": "4c12efb4",
   "metadata": {},
   "source": [
    "Some of the popular languages that Data Scientists use are:\n",
    "1. Python\n",
    "2. Julia\n",
    "3. SQL"
   ]
  },
  {
   "cell_type": "markdown",
   "id": "f83c1186",
   "metadata": {},
   "source": [
    "Some of the commonly used libraries  used by Data Scientists include:\n",
    "\n",
    "1. NumPy\n",
    "2. TensorFlow\n",
    "3. Pandas"
   ]
  },
  {
   "cell_type": "markdown",
   "id": "968e8087",
   "metadata": {},
   "source": [
    "# Table of Data Science Tools"
   ]
  },
  {
   "cell_type": "markdown",
   "id": "329ecc37",
   "metadata": {},
   "source": [
    "|Data Science Tools|\n",
    "|------------------|\n",
    "|Jupyter Notebook  |\n",
    "|PyCharm           |\n",
    "|RStudio           |"
   ]
  },
  {
   "cell_type": "markdown",
   "id": "c0a4ffd7",
   "metadata": {},
   "source": [
    "Introducing arithmetic examples\n",
    "\n",
    "### Below are few examples of evaluating arithmetic expressions in python\n"
   ]
  },
  {
   "cell_type": "code",
   "execution_count": 1,
   "id": "278aacff",
   "metadata": {},
   "outputs": [
    {
     "data": {
      "text/plain": [
       "17"
      ]
     },
     "execution_count": 1,
     "metadata": {},
     "output_type": "execute_result"
    }
   ],
   "source": [
    "(3*4)+5"
   ]
  },
  {
   "cell_type": "code",
   "execution_count": 2,
   "id": "8599c59b",
   "metadata": {},
   "outputs": [
    {
     "name": "stdout",
     "output_type": "stream",
     "text": [
      "Enter Minutes :--> 200\n",
      "Hour : Minute :--> 3  :  20\n"
     ]
    }
   ],
   "source": [
    "#This will convert 200  minutes to hours by dividing by 60\n",
    "min = int(input(\"Enter Minutes :--> \"))\n",
    "print(\"Hour : Minute :-->\", int(min/60), \" : \", min % 60)"
   ]
  },
  {
   "cell_type": "markdown",
   "id": "74273344",
   "metadata": {},
   "source": [
    "# Author\n",
    "Badimala Amuktha"
   ]
  },
  {
   "cell_type": "code",
   "execution_count": null,
   "id": "e287b6c1",
   "metadata": {},
   "outputs": [],
   "source": []
  }
 ],
 "metadata": {
  "kernelspec": {
   "display_name": "Python 3 (ipykernel)",
   "language": "python",
   "name": "python3"
  },
  "language_info": {
   "codemirror_mode": {
    "name": "ipython",
    "version": 3
   },
   "file_extension": ".py",
   "mimetype": "text/x-python",
   "name": "python",
   "nbconvert_exporter": "python",
   "pygments_lexer": "ipython3",
   "version": "3.9.13"
  },
  "widgets": {
   "application/vnd.jupyter.widget-state+json": {
    "state": {},
    "version_major": 2,
    "version_minor": 0
   }
  }
 },
 "nbformat": 4,
 "nbformat_minor": 5
}
